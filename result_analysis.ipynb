{
 "cells": [
  {
   "cell_type": "markdown",
   "metadata": {
    "collapsed": true,
    "pycharm": {
     "name": "#%% md\n"
    }
   },
   "source": [
    "# Result Analysis"
   ]
  },
  {
   "cell_type": "code",
   "execution_count": 7,
   "outputs": [],
   "source": [
    "import os\n",
    "import sys\n",
    "import numpy as np\n",
    "import pandas as pd\n",
    "import plotly\n",
    "import glob"
   ],
   "metadata": {
    "collapsed": false,
    "pycharm": {
     "name": "#%%\n"
    }
   }
  },
  {
   "cell_type": "markdown",
   "source": [
    "## Eval result with & without noise"
   ],
   "metadata": {
    "collapsed": false,
    "pycharm": {
     "name": "#%% md\n"
    }
   }
  },
  {
   "cell_type": "code",
   "execution_count": 38,
   "outputs": [],
   "source": [
    "# path & param definition\n",
    "noise_free_eval_dir = \"src/ndf_robot/eval_data/eval_data/exp--test_mug_eval_model--multi_category_weights_seed--0\"\n",
    "noise_001_eval_dir = \"src/ndf_robot/eval_data/eval_data/exp--test_mug_eval_gaussian_noise_0.01_model--multi_category_weights_seed--0\"\n",
    "noise_002_eval_dir = \"src/ndf_robot/eval_data/eval_data/exp--test_mug_eval_gaussian_noise_0.02_model--multi_category_weights_seed--0\"\n",
    "eval_file = \"success_rate_eval_implicit.npz\""
   ],
   "metadata": {
    "collapsed": false,
    "pycharm": {
     "name": "#%%\n"
    }
   }
  },
  {
   "cell_type": "code",
   "execution_count": 44,
   "outputs": [],
   "source": [
    "# parse evaluation result\n",
    "eval_dir = noise_002_eval_dir\n",
    "# for trial_dir in glob.glob(eval_dir+'/trial_[0-9]*'):\n",
    "trial_dir = os.path.join(eval_dir, \"trial_99\")\n",
    "eval_result_dict = dict(np.load(os.path.join(trial_dir, eval_file), allow_pickle=True))"
   ],
   "metadata": {
    "collapsed": false,
    "pycharm": {
     "name": "#%%\n"
    }
   }
  },
  {
   "cell_type": "markdown",
   "source": [
    "```\n",
    "dict_keys(['obj_shapenet_id', 'success', 'grasp_success', 'place_success', 'place_success_teleport', 'grasp_success_list', 'place_success_list', 'place_success_teleport_list', 'start_obj_pose', 'best_place_obj_pose', 'ee_transforms', 'obj_transforms', 'mesh_file', 'distractor_info', 'args', 'global_dict', 'cfg', 'obj_cfg'])\n",
    "```\n"
   ],
   "metadata": {
    "collapsed": false,
    "pycharm": {
     "name": "#%% md\n"
    }
   }
  },
  {
   "cell_type": "code",
   "execution_count": 45,
   "outputs": [
    {
     "name": "stdout",
     "output_type": "stream",
     "text": [
      "Place Success: 0.070, Place [teleport] Success: 0.240, Grasp Success: 0.380, Overall Success: 0.160\n"
     ]
    }
   ],
   "source": [
    "place_success_rate = np.sum(eval_result_dict['place_success_list']) / 100.0\n",
    "place_success_teleport_rate = np.sum(eval_result_dict['place_success_teleport_list']) / 100.0\n",
    "grasp_success_rate = np.sum(eval_result_dict['grasp_success_list']) / 100.0\n",
    "overall_success_rate = np.sum(eval_result_dict['grasp_success_list'] & eval_result_dict['place_success_teleport_list']) / 100.0\n",
    "result = f\"Place Success: {place_success_rate:.3f}, \" \\\n",
    "         f\"Place [teleport] Success: {place_success_teleport_rate:.3f}, \" \\\n",
    "         f\"Grasp Success: {grasp_success_rate:.3f}, \" \\\n",
    "         f\"Overall Success: {overall_success_rate:.3f}\"\n",
    "print(result)"
   ],
   "metadata": {
    "collapsed": false,
    "pycharm": {
     "name": "#%%\n"
    }
   }
  }
 ],
 "metadata": {
  "kernelspec": {
   "display_name": "Python 3",
   "language": "python",
   "name": "python3"
  },
  "language_info": {
   "codemirror_mode": {
    "name": "ipython",
    "version": 2
   },
   "file_extension": ".py",
   "mimetype": "text/x-python",
   "name": "python",
   "nbconvert_exporter": "python",
   "pygments_lexer": "ipython2",
   "version": "2.7.6"
  }
 },
 "nbformat": 4,
 "nbformat_minor": 0
}