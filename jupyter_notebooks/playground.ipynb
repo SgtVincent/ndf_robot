{
 "cells": [
  {
   "cell_type": "code",
   "execution_count": 4,
   "metadata": {},
   "outputs": [
    {
     "data": {
      "text/plain": [
       "'/home/junting/sslgrasp/ndf_robot/jupyter_notebooks'"
      ]
     },
     "execution_count": 4,
     "metadata": {},
     "output_type": "execute_result"
    }
   ],
   "source": [
    "\n",
    "import open3d as o3d \n",
    "import plotly\n",
    "import os.path as osp \n",
    "import os \n",
    "import numpy as np\n",
    "%pwd"
   ]
  },
  {
   "cell_type": "code",
   "execution_count": null,
   "metadata": {},
   "outputs": [],
   "source": [
    "object_paths = \"../src/ndf_robot/descriptions/objects\"\n"
   ]
  },
  {
   "cell_type": "markdown",
   "metadata": {},
   "source": [
    "## Demo files "
   ]
  },
  {
   "cell_type": "code",
   "execution_count": 2,
   "metadata": {},
   "outputs": [],
   "source": [
    "# arguments and paths \n",
    "obj_class = \"mug\"\n",
    "demo_exp = \"grasp_rim_hang_handle_gaussian_precise_w_shelf\"\n",
    "demo_dir = \"/home/junting/sslgrasp/ndf_robot/src/ndf_robot/data/demos\"\n",
    "demo_load_dir = osp.join(demo_dir, obj_class, demo_exp)"
   ]
  },
  {
   "cell_type": "code",
   "execution_count": 3,
   "metadata": {},
   "outputs": [],
   "source": [
    "# load demo files \n",
    "demo_filenames = os.listdir(demo_load_dir)\n",
    "# strip the filenames to properly pair up each demo file\n",
    "grasp_demo_filenames_orig = [\n",
    "    osp.join(demo_load_dir,\n",
    "                fn) for fn in demo_filenames if 'grasp_demo' in fn]  # use the grasp names as a reference\n",
    "\n",
    "place_demo_filenames = []\n",
    "grasp_demo_filenames = []\n",
    "for i, fname in enumerate(grasp_demo_filenames_orig):\n",
    "    shapenet_id_npz = fname.split('/')[-1].split('grasp_demo_')[-1]\n",
    "    place_fname = osp.join(\n",
    "        '/'.join(fname.split('/')[:-1]), 'place_demo_' + shapenet_id_npz)\n",
    "    if osp.exists(place_fname):\n",
    "        grasp_demo_filenames.append(fname)\n",
    "        place_demo_filenames.append(place_fname)\n",
    "    else:\n",
    "        print(\n",
    "            'Could not find corresponding placement demo: %s, skipping ' % place_fname)\n"
   ]
  },
  {
   "cell_type": "code",
   "execution_count": 5,
   "metadata": {},
   "outputs": [],
   "source": [
    "# load \n",
    "file_idx = 0\n",
    "grasp_demo_fn = grasp_demo_filenames[file_idx]\n",
    "place_demo_fn = place_demo_filenames[file_idx]\n",
    "grasp_data = np.load(grasp_demo_fn, allow_pickle=True)\n",
    "place_data = np.load(place_demo_fn, allow_pickle=True)"
   ]
  },
  {
   "cell_type": "code",
   "execution_count": 11,
   "metadata": {},
   "outputs": [
    {
     "name": "stdout",
     "output_type": "stream",
     "text": [
      "list of keys:  ['shapenet_id', 'ee_pose_world', 'robot_joints', 'obj_pose_world', 'obj_pose_camera', 'object_pointcloud', 'depth', 'seg', 'camera_poses', 'obj_model_file', 'obj_model_file_dec', 'gripper_pts', 'gripper_pts_gaussian', 'gripper_pts_uniform', 'gripper_contact_pose', 'table_urdf']\n",
      "grasp_data['shapenet_id']:  73b8b6456221f4ea20d3c05c08e26f\n"
     ]
    }
   ],
   "source": [
    "print(\"list of keys: \", list(grasp_data.keys()))\n",
    "print(\"grasp_data['shapenet_id']: \", grasp_data['shapenet_id'])"
   ]
  },
  {
   "cell_type": "code",
   "execution_count": null,
   "metadata": {},
   "outputs": [],
   "source": []
  },
  {
   "cell_type": "markdown",
   "metadata": {},
   "source": [
    "## Check object files in ShapeNet "
   ]
  },
  {
   "cell_type": "code",
   "execution_count": null,
   "metadata": {},
   "outputs": [],
   "source": [
    "objects_path = \"/home/junting/sslgrasp/ndf_robot/src/ndf_robot/descriptions/objects\"\n"
   ]
  }
 ],
 "metadata": {
  "interpreter": {
   "hash": "66771ebf1c16f73fc98b2be46662c5c596fdd1d131e8605caae995dd89350e3a"
  },
  "kernelspec": {
   "display_name": "Python 3.8.13 ('sslgrasp')",
   "language": "python",
   "name": "python3"
  },
  "language_info": {
   "codemirror_mode": {
    "name": "ipython",
    "version": 3
   },
   "file_extension": ".py",
   "mimetype": "text/x-python",
   "name": "python",
   "nbconvert_exporter": "python",
   "pygments_lexer": "ipython3",
   "version": "3.8.12"
  },
  "orig_nbformat": 4
 },
 "nbformat": 4,
 "nbformat_minor": 2
}
