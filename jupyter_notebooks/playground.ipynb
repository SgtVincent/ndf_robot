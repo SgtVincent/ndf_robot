{
 "cells": [
  {
   "cell_type": "code",
   "execution_count": 2,
   "metadata": {},
   "outputs": [
    {
     "name": "stdout",
     "output_type": "stream",
     "text": [
      "Jupyter environment detected. Enabling Open3D WebVisualizer.\n",
      "[Open3D INFO] WebRTC GUI backend enabled.\n",
      "[Open3D INFO] WebRTCWindowSystem: HTTP handshake server disabled.\n"
     ]
    },
    {
     "name": "stderr",
     "output_type": "stream",
     "text": [
      "INFO - 2022-05-11 11:08:57,225 - helper - Adding Anaconda lib path:/home/junting/miniforge3/envs/sslgrasp/lib/\n"
     ]
    },
    {
     "data": {
      "text/plain": [
       "'/home/junting/repo/ndf_robot/jupyter_notebooks'"
      ]
     },
     "execution_count": 2,
     "metadata": {},
     "output_type": "execute_result"
    }
   ],
   "source": [
    "\n",
    "import open3d as o3d \n",
    "import plotly\n",
    "import os.path as osp \n",
    "import os \n",
    "import numpy as np\n",
    "import trimesh\n",
    "%pwd"
   ]
  },
  {
   "cell_type": "code",
   "execution_count": 3,
   "metadata": {},
   "outputs": [],
   "source": [
    "object_paths = \"../src/ndf_robot/descriptions/objects\"\n"
   ]
  },
  {
   "cell_type": "markdown",
   "metadata": {},
   "source": [
    "## Demo files "
   ]
  },
  {
   "cell_type": "code",
   "execution_count": 4,
   "metadata": {},
   "outputs": [],
   "source": [
    "# arguments and paths \n",
    "obj_class = \"mug\"\n",
    "demo_exp = \"grasp_rim_hang_handle_gaussian_precise_w_shelf\"\n",
    "demo_dir = \"../src/ndf_robot/data/demos\"\n",
    "demo_load_dir = osp.join(demo_dir, obj_class, demo_exp)"
   ]
  },
  {
   "cell_type": "code",
   "execution_count": 5,
   "metadata": {},
   "outputs": [],
   "source": [
    "# load demo files \n",
    "demo_filenames = os.listdir(demo_load_dir)\n",
    "# strip the filenames to properly pair up each demo file\n",
    "grasp_demo_filenames_orig = [\n",
    "    osp.join(demo_load_dir,\n",
    "                fn) for fn in demo_filenames if 'grasp_demo' in fn]  # use the grasp names as a reference\n",
    "\n",
    "place_demo_filenames = []\n",
    "grasp_demo_filenames = []\n",
    "for i, fname in enumerate(grasp_demo_filenames_orig):\n",
    "    shapenet_id_npz = fname.split('/')[-1].split('grasp_demo_')[-1]\n",
    "    place_fname = osp.join(\n",
    "        '/'.join(fname.split('/')[:-1]), 'place_demo_' + shapenet_id_npz)\n",
    "    if osp.exists(place_fname):\n",
    "        grasp_demo_filenames.append(fname)\n",
    "        place_demo_filenames.append(place_fname)\n",
    "    else:\n",
    "        print(\n",
    "            'Could not find corresponding placement demo: %s, skipping ' % place_fname)\n"
   ]
  },
  {
   "cell_type": "code",
   "execution_count": 6,
   "metadata": {},
   "outputs": [],
   "source": [
    "# load \n",
    "file_idx = 0\n",
    "grasp_demo_fn = grasp_demo_filenames[file_idx]\n",
    "place_demo_fn = place_demo_filenames[file_idx]\n",
    "grasp_data = np.load(grasp_demo_fn, allow_pickle=True)\n",
    "place_data = np.load(place_demo_fn, allow_pickle=True)"
   ]
  },
  {
   "cell_type": "code",
   "execution_count": 7,
   "metadata": {},
   "outputs": [
    {
     "name": "stdout",
     "output_type": "stream",
     "text": [
      "list of keys:  ['shapenet_id', 'ee_pose_world', 'robot_joints', 'obj_pose_world', 'obj_pose_camera', 'object_pointcloud', 'depth', 'seg', 'camera_poses', 'obj_model_file', 'obj_model_file_dec', 'gripper_pts', 'gripper_pts_gaussian', 'gripper_pts_uniform', 'gripper_contact_pose', 'table_urdf']\n",
      "grasp_data['shapenet_id']:  b811555ccf5ef6c4948fa2daa427fe1f\n"
     ]
    }
   ],
   "source": [
    "print(\"list of keys: \", list(grasp_data.keys()))\n",
    "print(\"grasp_data['shapenet_id']: \", grasp_data['shapenet_id'])"
   ]
  },
  {
   "cell_type": "code",
   "execution_count": 13,
   "metadata": {},
   "outputs": [
    {
     "ename": "KeyError",
     "evalue": "'rgb is not a file in the archive'",
     "output_type": "error",
     "traceback": [
      "\u001b[0;31m---------------------------------------------------------------------------\u001b[0m",
      "\u001b[0;31mKeyError\u001b[0m                                  Traceback (most recent call last)",
      "\u001b[1;32m/home/junting/repo/ndf_robot/jupyter_notebooks/playground.ipynb Cell 8'\u001b[0m in \u001b[0;36m<cell line: 1>\u001b[0;34m()\u001b[0m\n\u001b[0;32m----> <a href='vscode-notebook-cell:/home/junting/repo/ndf_robot/jupyter_notebooks/playground.ipynb#ch0000007?line=0'>1</a>\u001b[0m grasp_data[\u001b[39m'\u001b[39;49m\u001b[39mrgb\u001b[39;49m\u001b[39m'\u001b[39;49m]\n",
      "File \u001b[0;32m~/miniforge3/envs/sslgrasp/lib/python3.8/site-packages/numpy/lib/npyio.py:249\u001b[0m, in \u001b[0;36mNpzFile.__getitem__\u001b[0;34m(self, key)\u001b[0m\n\u001b[1;32m    <a href='file:///home/junting/miniforge3/envs/sslgrasp/lib/python3.8/site-packages/numpy/lib/npyio.py?line=246'>247</a>\u001b[0m         \u001b[39mreturn\u001b[39;00m \u001b[39mself\u001b[39m\u001b[39m.\u001b[39mzip\u001b[39m.\u001b[39mread(key)\n\u001b[1;32m    <a href='file:///home/junting/miniforge3/envs/sslgrasp/lib/python3.8/site-packages/numpy/lib/npyio.py?line=247'>248</a>\u001b[0m \u001b[39melse\u001b[39;00m:\n\u001b[0;32m--> <a href='file:///home/junting/miniforge3/envs/sslgrasp/lib/python3.8/site-packages/numpy/lib/npyio.py?line=248'>249</a>\u001b[0m     \u001b[39mraise\u001b[39;00m \u001b[39mKeyError\u001b[39;00m(\u001b[39m\"\u001b[39m\u001b[39m%s\u001b[39;00m\u001b[39m is not a file in the archive\u001b[39m\u001b[39m\"\u001b[39m \u001b[39m%\u001b[39m key)\n",
      "\u001b[0;31mKeyError\u001b[0m: 'rgb is not a file in the archive'"
     ]
    }
   ],
   "source": [
    "grasp_data['rgb']"
   ]
  },
  {
   "cell_type": "markdown",
   "metadata": {},
   "source": [
    "## Check object files in ShapeNet "
   ]
  },
  {
   "cell_type": "code",
   "execution_count": 9,
   "metadata": {},
   "outputs": [],
   "source": [
    "ndf_objects_path = \"../src/ndf_robot/descriptions/objects\"\n",
    "shapenet_objects_path = \"/home/junting/Downloads/datasets/shapenet_v2\""
   ]
  },
  {
   "cell_type": "code",
   "execution_count": 10,
   "metadata": {},
   "outputs": [
    {
     "name": "stdout",
     "output_type": "stream",
     "text": [
      "Class mug missing objects: []\n",
      "Class bottle missing objects: []\n",
      "Class bowl missing objects: []\n"
     ]
    }
   ],
   "source": [
    "# make sure all objects in ndf are provided in shapenet\n",
    "shapenet_id_dict = {'mug':'03797390', 'bottle': '02876657', 'bowl':'02880940'}\n",
    "missing_objects = {'mug':[], 'bottle':[], 'bowl':[]}\n",
    "\n",
    "for ndf_cls, sn_id, in shapenet_id_dict.items():\n",
    "    ndf_cls_object_ids = os.listdir(osp.join(ndf_objects_path, f\"{ndf_cls}_centered_obj_normalized\"))\n",
    "    sn_id_object_ids = os.listdir(osp.join(shapenet_objects_path, sn_id)) \n",
    "    \n",
    "    for ndf_id in ndf_cls_object_ids:\n",
    "        if ndf_id not in sn_id_object_ids:\n",
    "            missing_objects[ndf_cls].append(ndf_id)\n",
    "\n",
    "for ndf_cls in missing_objects.keys():\n",
    "    print(f\"Class {ndf_cls} missing objects: {missing_objects[ndf_cls]}\")\n",
    "\n",
    "# Output: \n",
    "# Class mug missing objects: []\n",
    "# Class bottle missing objects: []\n",
    "# Class bowl missing objects: []"
   ]
  },
  {
   "cell_type": "code",
   "execution_count": 11,
   "metadata": {},
   "outputs": [
    {
     "name": "stdout",
     "output_type": "stream",
     "text": [
      "Object id: 645b0e2ef3b95979204df312eabf367f\n"
     ]
    }
   ],
   "source": [
    "# compare difference between ndf objects and shapenet objects \n",
    "ndf_cls = 'mug'\n",
    "object_idx = 20\n",
    "sn_id = shapenet_id_dict[ndf_cls]\n",
    "\n",
    "ndf_cls_object_ids = os.listdir(osp.join(ndf_objects_path, f\"{ndf_cls}_centered_obj_normalized\"))\n",
    "sn_id_object_ids = os.listdir(osp.join(shapenet_objects_path, sn_id)) \n",
    "\n",
    "ndf_obj_file_path =  osp.join(\n",
    "    ndf_objects_path, \n",
    "    f\"{ndf_cls}_centered_obj_normalized\", \n",
    "    ndf_cls_object_ids[object_idx],\n",
    "    \"models\",\n",
    "    \"model_normalized.obj\")\n",
    "sn_obj_file_path =  osp.join(\n",
    "    shapenet_objects_path, \n",
    "    sn_id, \n",
    "    ndf_cls_object_ids[object_idx],\n",
    "    \"models\",\n",
    "    \"model_normalized.obj\")\n",
    "print(f\"Object id: {ndf_cls_object_ids[object_idx]}\")"
   ]
  },
  {
   "cell_type": "code",
   "execution_count": 12,
   "metadata": {},
   "outputs": [],
   "source": [
    "# trimesh.util.attach_to_log() \n",
    "ndf_obj_trimesh = trimesh.load(ndf_obj_file_path)\n",
    "sn_obj_trimesh = trimesh.load(sn_obj_file_path)\n",
    "ndf_obj_trimesh.apply_translation((-1, 0, 0))\n",
    "sn_obj_trimesh.apply_translation((1, 0, 0))\n",
    "\n",
    "# trimesh.Scene([ndf_obj_trimesh, sn_obj_trimesh]).show(viewer='gl')"
   ]
  }
 ],
 "metadata": {
  "interpreter": {
   "hash": "66771ebf1c16f73fc98b2be46662c5c596fdd1d131e8605caae995dd89350e3a"
  },
  "kernelspec": {
   "display_name": "Python 3.8.13 ('sslgrasp')",
   "language": "python",
   "name": "python3"
  },
  "language_info": {
   "codemirror_mode": {
    "name": "ipython",
    "version": 3
   },
   "file_extension": ".py",
   "mimetype": "text/x-python",
   "name": "python",
   "nbconvert_exporter": "python",
   "pygments_lexer": "ipython3",
   "version": "3.8.13"
  },
  "orig_nbformat": 4
 },
 "nbformat": 4,
 "nbformat_minor": 2
}
